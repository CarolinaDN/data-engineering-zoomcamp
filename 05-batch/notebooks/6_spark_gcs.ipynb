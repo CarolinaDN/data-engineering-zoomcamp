{
 "cells": [
  {
   "cell_type": "markdown",
   "id": "f8f1a7ab-a4fa-4442-8091-d01affce6af7",
   "metadata": {},
   "source": [
    "## Connecting to Google Cloud Storage"
   ]
  },
  {
   "cell_type": "code",
   "execution_count": 2,
   "id": "6d254cb0-22bd-424d-ac96-131af3e6b7fa",
   "metadata": {},
   "outputs": [],
   "source": [
    "import pyspark\n",
    "from pyspark.sql import SparkSession\n",
    "from pyspark.conf import SparkConf\n",
    "from pyspark.context import SparkContext"
   ]
  },
  {
   "cell_type": "code",
   "execution_count": 3,
   "id": "85b5b841-a1a6-4771-b452-728a90a55b97",
   "metadata": {},
   "outputs": [],
   "source": [
    "credentials_location = 'google_credentials.json'\n",
    "\n",
    "conf = SparkConf() \\\n",
    "    .setMaster('local[*]') \\\n",
    "    .setAppName('test') \\\n",
    "    .set(\"spark.jars\", \"./lib/gcs-connector-hadoop3-2.2.5.jar\") \\\n",
    "    .set(\"spark.hadoop.google.cloud.auth.service.account.enable\", \"true\") \\\n",
    "    .set(\"spark.hadoop.google.cloud.auth.service.account.json.keyfile\", credentials_location)"
   ]
  },
  {
   "cell_type": "code",
   "execution_count": 4,
   "id": "74c86111-7790-40e1-b6be-417140a4a794",
   "metadata": {},
   "outputs": [
    {
     "name": "stdout",
     "output_type": "stream",
     "text": [
      "24/08/02 15:02:15 WARN NativeCodeLoader: Unable to load native-hadoop library for your platform... using builtin-java classes where applicable\n"
     ]
    },
    {
     "name": "stderr",
     "output_type": "stream",
     "text": [
      "Setting default log level to \"WARN\".\n",
      "To adjust logging level use sc.setLogLevel(newLevel). For SparkR, use setLogLevel(newLevel).\n"
     ]
    }
   ],
   "source": [
    "sc = SparkContext(conf=conf)\n",
    "\n",
    "hadoop_conf = sc._jsc.hadoopConfiguration()\n",
    "\n",
    "hadoop_conf.set(\"fs.AbstractFileSystem.gs.impl\",  \"com.google.cloud.hadoop.fs.gcs.GoogleHadoopFS\")\n",
    "hadoop_conf.set(\"fs.gs.impl\", \"com.google.cloud.hadoop.fs.gcs.GoogleHadoopFileSystem\")\n",
    "hadoop_conf.set(\"fs.gs.auth.service.account.json.keyfile\", credentials_location)\n",
    "hadoop_conf.set(\"fs.gs.auth.service.account.enable\", \"true\")\n",
    "\n"
   ]
  },
  {
   "cell_type": "code",
   "execution_count": 5,
   "id": "8f8d2b45-6e2a-4395-b449-ea90db5e6105",
   "metadata": {},
   "outputs": [],
   "source": [
    "spark = SparkSession.builder \\\n",
    "    .config(conf=sc.getConf()) \\\n",
    "    .getOrCreate()"
   ]
  },
  {
   "cell_type": "code",
   "execution_count": 6,
   "id": "943a100d-7036-444f-ba0d-c3dbb4e6d01f",
   "metadata": {},
   "outputs": [
    {
     "name": "stderr",
     "output_type": "stream",
     "text": [
      "                                                                                \r"
     ]
    }
   ],
   "source": [
    "df_green = spark.read.parquet('gs://mage-zoomcamp-carolina/pq/green/*/*')"
   ]
  },
  {
   "cell_type": "code",
   "execution_count": 7,
   "id": "8b6032d4-eece-45c9-916b-fc642a513ad1",
   "metadata": {
    "scrolled": true
   },
   "outputs": [
    {
     "name": "stderr",
     "output_type": "stream",
     "text": [
      "[Stage 1:>                                                          (0 + 1) / 1]\r"
     ]
    },
    {
     "name": "stdout",
     "output_type": "stream",
     "text": [
      "+--------+--------------------+---------------------+------------------+----------+------------+------------+---------------+-------------+-----------+-----+-------+----------+------------+---------+---------------------+------------+------------+---------+--------------------+\n",
      "|VendorID|lpep_pickup_datetime|lpep_dropoff_datetime|store_and_fwd_flag|RatecodeID|PULocationID|DOLocationID|passenger_count|trip_distance|fare_amount|extra|mta_tax|tip_amount|tolls_amount|ehail_fee|improvement_surcharge|total_amount|payment_type|trip_type|congestion_surcharge|\n",
      "+--------+--------------------+---------------------+------------------+----------+------------+------------+---------------+-------------+-----------+-----+-------+----------+------------+---------+---------------------+------------+------------+---------+--------------------+\n",
      "|       2| 2019-01-27 18:07:53|  2019-01-27 18:20:54|                 N|         1|          82|         160|              1|         2.91|       11.5|  0.0|    0.5|       0.0|         0.0|     null|                  0.3|        12.3|           2|        1|                null|\n",
      "|       2| 2019-01-17 07:38:57|  2019-01-17 07:46:47|                 N|         1|          41|          74|              1|         1.08|        7.0|  0.0|    0.5|       0.0|         0.0|     null|                  0.3|         7.8|           2|        1|                null|\n",
      "|       2| 2019-01-30 00:40:05|  2019-01-30 00:45:53|                 N|         1|          82|         129|              1|         1.24|        6.5|  0.5|    0.5|       0.0|         0.0|     null|                  0.3|         7.8|           2|        1|                 0.0|\n",
      "|       2| 2019-01-29 18:59:48|  2019-01-29 19:10:56|                 N|         1|         130|          10|              1|          2.5|       11.0|  1.0|    0.5|      3.84|         0.0|     null|                  0.3|       16.64|           1|        1|                 0.0|\n",
      "|       2| 2019-01-11 11:56:18|  2019-01-11 12:37:23|                 N|         1|         119|         226|              1|         8.72|       33.0|  0.0|    0.5|       0.0|        5.76|     null|                  0.3|       39.56|           1|        1|                null|\n",
      "|       2| 2019-01-22 13:00:15|  2019-01-22 13:07:14|                 N|         1|          75|         151|              1|         1.58|        7.5|  0.0|    0.5|      2.49|         0.0|     null|                  0.3|       10.79|           1|        1|                null|\n",
      "|       2| 2019-01-19 23:14:34|  2019-01-19 23:19:17|                 N|         1|          41|          42|              1|         0.82|        5.0|  0.5|    0.5|       0.0|         0.0|     null|                  0.3|         6.3|           2|        1|                null|\n",
      "|       2| 2019-01-22 10:48:42|  2019-01-22 11:03:54|                 N|         1|         183|          81|              1|         3.26|       13.5|  0.0|    0.5|       0.0|         0.0|     null|                  0.3|        14.3|           1|        1|                null|\n",
      "|       2| 2019-01-15 16:34:38|  2019-01-15 16:54:31|                 N|         1|          72|          61|              1|         2.57|       14.5|  1.0|    0.5|       0.0|         0.0|     null|                  0.3|        16.3|           1|        1|                null|\n",
      "|       1| 2019-01-31 16:24:12|  2019-01-31 16:29:21|                 N|         1|          75|         236|              1|          0.8|        5.5|  1.0|    0.5|      1.45|         0.0|     null|                  0.3|        8.75|           1|        1|                 0.0|\n",
      "|       2| 2019-01-09 19:00:16|  2019-01-09 19:11:19|                 N|         1|         260|           7|              1|         2.02|        9.5|  1.0|    0.5|       0.0|         0.0|     null|                  0.3|        11.3|           2|        1|                null|\n",
      "|       2| 2019-01-29 20:48:03|  2019-01-29 21:40:24|                 N|         1|         145|         196|              1|          9.0|       38.5|  0.5|    0.5|       5.0|         0.0|     null|                  0.3|        44.8|           1|        1|                 0.0|\n",
      "|       2| 2019-01-24 08:10:55|  2019-01-24 08:25:50|                 N|         1|          74|         236|              1|         1.74|       10.5|  0.0|    0.5|       1.5|         0.0|     null|                  0.3|        12.8|           1|        1|                null|\n",
      "|       2| 2019-01-13 04:03:31|  2019-01-13 04:09:31|                 N|         1|          80|         157|              1|         1.94|        7.5|  0.5|    0.5|       0.0|         0.0|     null|                  0.3|         8.8|           2|        1|                null|\n",
      "|       2| 2019-01-26 09:03:30|  2019-01-26 09:18:37|                 N|         1|         129|         145|              1|         3.49|       13.5|  0.0|    0.5|      2.86|         0.0|     null|                  0.3|       17.16|           1|        1|                null|\n",
      "|       2| 2019-01-06 21:04:20|  2019-01-06 21:09:13|                 N|         1|           7|         226|              1|         0.89|        5.5|  0.5|    0.5|      1.36|         0.0|     null|                  0.3|        8.16|           1|        1|                null|\n",
      "|       2| 2019-01-25 17:23:13|  2019-01-25 17:38:23|                 N|         1|         244|         238|              1|         4.78|       17.0|  1.0|    0.5|      3.76|         0.0|     null|                  0.3|       22.56|           1|        1|                null|\n",
      "|       2| 2019-01-19 23:10:59|  2019-01-19 23:22:03|                 N|         1|         130|          10|              1|         2.69|       10.5|  0.5|    0.5|       0.0|         0.0|     null|                  0.3|        11.8|           1|        1|                null|\n",
      "|       2| 2019-01-22 11:26:57|  2019-01-22 11:49:16|                 N|         1|         174|         247|              5|         3.88|       17.0|  0.0|    0.5|       0.0|         0.0|     null|                  0.3|        17.8|           1|        1|                null|\n",
      "|       2| 2019-01-26 04:23:58|  2019-01-26 04:27:31|                 N|         1|         181|         228|              1|         0.58|        4.5|  0.5|    0.5|      1.16|         0.0|     null|                  0.3|        6.96|           1|        1|                null|\n",
      "+--------+--------------------+---------------------+------------------+----------+------------+------------+---------------+-------------+-----------+-----+-------+----------+------------+---------+---------------------+------------+------------+---------+--------------------+\n",
      "only showing top 20 rows\n",
      "\n"
     ]
    },
    {
     "name": "stderr",
     "output_type": "stream",
     "text": [
      "                                                                                \r"
     ]
    }
   ],
   "source": [
    "df_green.show()"
   ]
  },
  {
   "cell_type": "code",
   "execution_count": 8,
   "id": "f86c90d8-68e1-40be-b3ae-3d04bc08d068",
   "metadata": {},
   "outputs": [
    {
     "name": "stderr",
     "output_type": "stream",
     "text": [
      "                                                                                \r"
     ]
    },
    {
     "data": {
      "text/plain": [
       "8348567"
      ]
     },
     "execution_count": 8,
     "metadata": {},
     "output_type": "execute_result"
    }
   ],
   "source": [
    "df_green.count()"
   ]
  }
 ],
 "metadata": {
  "kernelspec": {
   "display_name": "Python 3 (ipykernel)",
   "language": "python",
   "name": "python3"
  },
  "language_info": {
   "codemirror_mode": {
    "name": "ipython",
    "version": 3
   },
   "file_extension": ".py",
   "mimetype": "text/x-python",
   "name": "python",
   "nbconvert_exporter": "python",
   "pygments_lexer": "ipython3",
   "version": "3.11.7"
  }
 },
 "nbformat": 4,
 "nbformat_minor": 5
}
